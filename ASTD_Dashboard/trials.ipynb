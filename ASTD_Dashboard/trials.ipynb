{
 "cells": [
  {
   "cell_type": "code",
   "execution_count": 4,
   "metadata": {},
   "outputs": [],
   "source": [
    "import plotly.graph_objects as go\n",
    "import pandas as pd\n",
    "import numpy as np\n"
   ]
  },
  {
   "cell_type": "code",
   "execution_count": 5,
   "metadata": {},
   "outputs": [],
   "source": [
    "## CREATE GLOBE MAP \n",
    "\n",
    "# fig = go.Figure(go.Scattergeo())\n",
    "# fig.update_geos(projection_type=\"orthographic\")\n",
    "# fig.update_layout(height=300, margin={\"r\":0,\"t\":0,\"l\":0,\"b\":0})\n",
    "# fig.show()"
   ]
  },
  {
   "cell_type": "code",
   "execution_count": 6,
   "metadata": {},
   "outputs": [],
   "source": [
    "data_hoja1 = pd.read_excel('CO2.xlsx', sheet_name='fossil_CO2_totals_by_country')\n"
   ]
  },
  {
   "cell_type": "code",
   "execution_count": 7,
   "metadata": {},
   "outputs": [],
   "source": [
    "data_h1 = data_hoja1.melt(\n",
    "    id_vars=['ISOcode', 'Country'],  # fixed columns\n",
    "    var_name='Year',                 # new col\n",
    "    value_name='CO2 Emissions'       # ew col \n",
    ")"
   ]
  },
  {
   "cell_type": "code",
   "execution_count": 9,
   "metadata": {},
   "outputs": [],
   "source": [
    "df_year = data_h1[data_h1['Year'] == 2020]"
   ]
  },
  {
   "cell_type": "code",
   "execution_count": 10,
   "metadata": {},
   "outputs": [
    {
     "data": {
      "text/html": [
       "<div>\n",
       "<style scoped>\n",
       "    .dataframe tbody tr th:only-of-type {\n",
       "        vertical-align: middle;\n",
       "    }\n",
       "\n",
       "    .dataframe tbody tr th {\n",
       "        vertical-align: top;\n",
       "    }\n",
       "\n",
       "    .dataframe thead th {\n",
       "        text-align: right;\n",
       "    }\n",
       "</style>\n",
       "<table border=\"1\" class=\"dataframe\">\n",
       "  <thead>\n",
       "    <tr style=\"text-align: right;\">\n",
       "      <th></th>\n",
       "      <th>ISOcode</th>\n",
       "      <th>Country</th>\n",
       "      <th>Year</th>\n",
       "      <th>CO2 Emissions</th>\n",
       "    </tr>\n",
       "  </thead>\n",
       "  <tbody>\n",
       "    <tr>\n",
       "      <th>10450</th>\n",
       "      <td>ABW</td>\n",
       "      <td>Aruba</td>\n",
       "      <td>2020</td>\n",
       "      <td>1.144333</td>\n",
       "    </tr>\n",
       "    <tr>\n",
       "      <th>10451</th>\n",
       "      <td>AFG</td>\n",
       "      <td>Afghanistan</td>\n",
       "      <td>2020</td>\n",
       "      <td>8.183718</td>\n",
       "    </tr>\n",
       "    <tr>\n",
       "      <th>10452</th>\n",
       "      <td>AGO</td>\n",
       "      <td>Angola</td>\n",
       "      <td>2020</td>\n",
       "      <td>23.055844</td>\n",
       "    </tr>\n",
       "    <tr>\n",
       "      <th>10453</th>\n",
       "      <td>AIA</td>\n",
       "      <td>Anguilla</td>\n",
       "      <td>2020</td>\n",
       "      <td>0.022779</td>\n",
       "    </tr>\n",
       "    <tr>\n",
       "      <th>10454</th>\n",
       "      <td>ALB</td>\n",
       "      <td>Albania</td>\n",
       "      <td>2020</td>\n",
       "      <td>4.706920</td>\n",
       "    </tr>\n",
       "    <tr>\n",
       "      <th>...</th>\n",
       "      <td>...</td>\n",
       "      <td>...</td>\n",
       "      <td>...</td>\n",
       "      <td>...</td>\n",
       "    </tr>\n",
       "    <tr>\n",
       "      <th>10654</th>\n",
       "      <td>WSM</td>\n",
       "      <td>Samoa</td>\n",
       "      <td>2020</td>\n",
       "      <td>0.347398</td>\n",
       "    </tr>\n",
       "    <tr>\n",
       "      <th>10655</th>\n",
       "      <td>YEM</td>\n",
       "      <td>Yemen</td>\n",
       "      <td>2020</td>\n",
       "      <td>11.607959</td>\n",
       "    </tr>\n",
       "    <tr>\n",
       "      <th>10656</th>\n",
       "      <td>ZAF</td>\n",
       "      <td>South Africa</td>\n",
       "      <td>2020</td>\n",
       "      <td>427.815947</td>\n",
       "    </tr>\n",
       "    <tr>\n",
       "      <th>10657</th>\n",
       "      <td>ZMB</td>\n",
       "      <td>Zambia</td>\n",
       "      <td>2020</td>\n",
       "      <td>6.618359</td>\n",
       "    </tr>\n",
       "    <tr>\n",
       "      <th>10658</th>\n",
       "      <td>ZWE</td>\n",
       "      <td>Zimbabwe</td>\n",
       "      <td>2020</td>\n",
       "      <td>11.443394</td>\n",
       "    </tr>\n",
       "  </tbody>\n",
       "</table>\n",
       "<p>209 rows × 4 columns</p>\n",
       "</div>"
      ],
      "text/plain": [
       "      ISOcode       Country  Year  CO2 Emissions\n",
       "10450     ABW         Aruba  2020       1.144333\n",
       "10451     AFG   Afghanistan  2020       8.183718\n",
       "10452     AGO        Angola  2020      23.055844\n",
       "10453     AIA      Anguilla  2020       0.022779\n",
       "10454     ALB       Albania  2020       4.706920\n",
       "...       ...           ...   ...            ...\n",
       "10654     WSM         Samoa  2020       0.347398\n",
       "10655     YEM         Yemen  2020      11.607959\n",
       "10656     ZAF  South Africa  2020     427.815947\n",
       "10657     ZMB        Zambia  2020       6.618359\n",
       "10658     ZWE      Zimbabwe  2020      11.443394\n",
       "\n",
       "[209 rows x 4 columns]"
      ]
     },
     "execution_count": 10,
     "metadata": {},
     "output_type": "execute_result"
    }
   ],
   "source": [
    "df_year"
   ]
  },
  {
   "cell_type": "code",
   "execution_count": 13,
   "metadata": {},
   "outputs": [
    {
     "data": {
      "application/vnd.plotly.v1+json": {
       "config": {
        "plotlyServerURL": "https://plot.ly"
       },
       "data": [
        {
         "locationmode": "country names",
         "locations": [
          "Aruba",
          "Afghanistan",
          "Angola",
          "Anguilla",
          "Albania",
          "Curacao",
          "United Arab Emirates",
          "Argentina",
          "Armenia",
          "Antigua and Barbuda",
          "Australia",
          "Austria",
          "Azerbaijan",
          "Burundi",
          "Belgium",
          "Benin",
          "Burkina Faso",
          "Bangladesh",
          "Bulgaria",
          "Bahrain",
          "Bahamas",
          "Bosnia and Herzegovina",
          "Belarus",
          "Belize",
          "Bermuda",
          "Bolivia",
          "Brazil",
          "Barbados",
          "Brunei",
          "Bhutan",
          "Botswana",
          "Central African Republic",
          "Canada",
          "Switzerland and Liechtenstein",
          "Chile",
          "China",
          "Côte d’Ivoire",
          "Cameroon",
          "Democratic Republic of the Congo",
          "Congo",
          "Cook Islands",
          "Colombia",
          "Comoros",
          "Cabo Verde",
          "Costa Rica",
          "Cuba",
          "Cayman Islands",
          "Cyprus",
          "Czechia",
          "Germany",
          "Djibouti",
          "Dominica",
          "Denmark",
          "Dominican Republic",
          "Algeria",
          "Ecuador",
          "Egypt",
          "Eritrea",
          "Western Sahara",
          "Spain and Andorra",
          "Estonia",
          "Ethiopia",
          "Finland",
          "Fiji",
          "Falkland Islands",
          "France and Monaco",
          "Faroes",
          "Gabon",
          "United Kingdom",
          "Georgia",
          "Ghana",
          "Gibraltar",
          "Guinea",
          "Guadeloupe",
          "The Gambia",
          "Guinea-Bissau",
          "Equatorial Guinea",
          "Greece",
          "Grenada",
          "Greenland",
          "Guatemala",
          "French Guiana",
          "Guyana",
          "Hong Kong",
          "Honduras",
          "Croatia",
          "Haiti",
          "Hungary",
          "Indonesia",
          "India",
          "Ireland",
          "Iran",
          "Iraq",
          "Iceland",
          "Israel and Palestine, State of",
          "Italy, San Marino and the Holy See",
          "Jamaica",
          "Jordan",
          "Japan",
          "Kazakhstan",
          "Kenya",
          "Kyrgyzstan",
          "Cambodia",
          "Kiribati",
          "Saint Kitts and Nevis",
          "South Korea",
          "Kuwait",
          "Laos",
          "Lebanon",
          "Liberia",
          "Libya",
          "Saint Lucia",
          "Sri Lanka",
          "Lesotho",
          "Lithuania",
          "Luxembourg",
          "Latvia",
          "Macao",
          "Morocco",
          "Moldova",
          "Madagascar",
          "Maldives",
          "Mexico",
          "North Macedonia",
          "Mali",
          "Malta",
          "Myanmar/Burma",
          "Mongolia",
          "Mozambique",
          "Mauritania",
          "Martinique",
          "Mauritius",
          "Malawi",
          "Malaysia",
          "Namibia",
          "New Caledonia",
          "Niger",
          "Nigeria",
          "Nicaragua",
          "Netherlands",
          "Norway",
          "Nepal",
          "New Zealand",
          "Oman",
          "Pakistan",
          "Panama",
          "Peru",
          "Philippines",
          "Palau",
          "Papua New Guinea",
          "Poland",
          "Puerto Rico",
          "North Korea",
          "Portugal",
          "Paraguay",
          "French Polynesia",
          "Qatar",
          "Réunion",
          "Romania",
          "Russia",
          "Rwanda",
          "Saudi Arabia",
          "Serbia and Montenegro",
          "Sudan and South Sudan",
          "International Shipping",
          "Senegal",
          "Singapore",
          "Saint Helena, Ascension and Tristan da Cunha",
          "Solomon Islands",
          "Sierra Leone",
          "El Salvador",
          "Somalia",
          "Saint Pierre and Miquelon",
          "São Tomé and Príncipe",
          "Suriname",
          "Slovakia",
          "Slovenia",
          "Sweden",
          "Eswatini",
          "Seychelles",
          "Syria",
          "Turks and Caicos Islands",
          "Chad",
          "Togo",
          "Thailand",
          "Tajikistan",
          "Turkmenistan",
          "Timor-Leste",
          "Tonga",
          "Trinidad and Tobago",
          "Tunisia",
          "Turkey",
          "Taiwan",
          "Tanzania",
          "Uganda",
          "Ukraine",
          "Uruguay",
          "United States",
          "Uzbekistan",
          "Saint Vincent and the Grenadines",
          "Venezuela",
          "British Virgin Islands",
          "Vietnam",
          "Vanuatu",
          "Samoa",
          "Yemen",
          "South Africa",
          "Zambia",
          "Zimbabwe"
         ],
         "marker": {
          "color": [
           1.1443334637731,
           8.1837178734951,
           23.055843825837,
           0.022779487610771,
           4.7069204164287,
           1.8310850970796,
           189.33802431827,
           171.86324980395,
           6.3768226583438,
           0.69876004244997,
           376.77873927486,
           63.320864087838,
           35.982991416327,
           0.66712932326056,
           90.713808046919,
           8.0267801517168,
           4.9498697046516,
           104.14327454512,
           37.795162893938,
           36.468908037566,
           3.6303625606453,
           22.554401127018,
           57.089465324127,
           0.55834986981276,
           0.73640550801535,
           20.252684962445,
           441.36902361588,
           1.5913642035801,
           7.2012152367498,
           1.7756692184276,
           6.705221979407,
           0.25833780323279,
           548.45485142572,
           34.226904658101,
           83.49511343181,
           11948.119604637,
           13.643330459073,
           9.806340523059,
           3.2230698942952,
           7.4554450818705,
           0.10513544206887,
           73.035492382356,
           0.26050890752437,
           0.847488747985,
           7.2526456043229,
           21.824078549902,
           0.77290491691607,
           6.4322381895036,
           92.377673112105,
           629.09943820512,
           0.57385470398227,
           0.17496891806339,
           25.962599243995,
           25.041344738823,
           168.9499461034,
           34.032644726349,
           243.28933779545,
           0.78730456111829,
           0.19742442993561,
           212.46727494479,
           13.861403452953,
           18.174781990334,
           38.24786851755,
           1.6708042048543,
           0.050016638821844,
           279.26008845253,
           0.0019669305409165,
           5.5118276447039,
           318.92274971842,
           11.243105188724,
           21.582961669041,
           0.65184910877628,
           3.2215723699572,
           1.6314286334111,
           0.51693004356573,
           0.29769124068317,
           6.6607144086194,
           52.220281376701,
           0.30895625951038,
           0.45458465642615,
           17.426818465127,
           0.77715290273072,
           2.686565012522,
           32.811176574808,
           8.7123761528284,
           17.187753988759,
           2.9372260855669,
           49.39831937562,
           591.31890145117,
           2396.3365168156,
           32.921526517873,
           690.86402214906,
           165.76894875759,
           2.7104713436724,
           59.906141879003,
           295.4190738392,
           7.2308245716445,
           23.510160759925,
           1054.9041462829,
           212.88782312567,
           21.108959269855,
           9.7326353632638,
           16.48174710499,
           0.072494679910562,
           0.25726518134084,
           605.44917201582,
           91.122098555376,
           20.211693781349,
           24.972173108261,
           1.3450910882107,
           48.892535664096,
           0.64059636271544,
           24.536598395088,
           0.63269807903569,
           13.557129734815,
           8.1579132572081,
           6.9387892636056,
           2.5994907799189,
           67.426118020969,
           8.9360525163203,
           4.955637712442,
           2.1277045456343,
           401.12570695017,
           7.1597619839611,
           5.5209698853048,
           1.623964846067,
           39.702453304734,
           24.534009333379,
           8.0317788441688,
           3.9622890303519,
           1.7155162733595,
           3.8579307231918,
           1.7083852719639,
           256.19148870119,
           3.9482421447153,
           5.5575570803969,
           2.2612329304584,
           120.33790242985,
           4.4700508770646,
           143.11026025612,
           41.670154193316,
           13.926567582475,
           33.295879764652,
           85.63465895745,
           202.04717444364,
           11.146464621051,
           46.587114650037,
           138.69579043043,
           1.2762271605056,
           6.387040320428,
           295.9313406108,
           1.2052609961293,
           61.084017016174,
           39.578686090616,
           8.2659381983906,
           0.93875083719473,
           94.728436399887,
           2.4153855782279,
           73.081128471845,
           1797.5952724264,
           1.1669296933026,
           574.91595203697,
           57.718866330993,
           20.134419868571,
           667.03734744548,
           11.144695209578,
           55.797520042957,
           0.015572637935289,
           0.3174580258151,
           0.94389709063463,
           7.3655062880581,
           0.7171936669735,
           0.091564481149666,
           0.14289892238458,
           2.4992949333903,
           33.112816532296,
           14.373390998802,
           38.968335995784,
           1.4473193803246,
           1.0076653980966,
           24.850879636901,
           0.22321510878775,
           2.0399599390105,
           2.121302812159,
           265.84956872467,
           9.2100679321913,
           72.335231047703,
           0.5608762840306,
           0.16297351816571,
           29.057054069315,
           27.594774985845,
           416.5135450314,
           268.88390248785,
           12.506569041339,
           6.4663423135468,
           189.71770806781,
           6.2883484289347,
           4464.1058116912,
           122.15394341609,
           0.20929274833201,
           100.1568359109,
           0.16388196729566,
           322.01765202823,
           0.21514145959932,
           0.34739751753586,
           11.607958936756,
           427.81594747893,
           6.6183586996763,
           11.443394499692
          ],
          "colorbar": {
           "title": {
            "text": "CO2 Emissions"
           }
          },
          "colorscale": [
           [
            0,
            "#440154"
           ],
           [
            0.1111111111111111,
            "#482878"
           ],
           [
            0.2222222222222222,
            "#3e4989"
           ],
           [
            0.3333333333333333,
            "#31688e"
           ],
           [
            0.4444444444444444,
            "#26828e"
           ],
           [
            0.5555555555555556,
            "#1f9e89"
           ],
           [
            0.6666666666666666,
            "#35b779"
           ],
           [
            0.7777777777777778,
            "#6ece58"
           ],
           [
            0.8888888888888888,
            "#b5de2b"
           ],
           [
            1,
            "#fde725"
           ]
          ],
          "size": 10
         },
         "text": [
          1.1443334637731,
          8.1837178734951,
          23.055843825837,
          0.022779487610771,
          4.7069204164287,
          1.8310850970796,
          189.33802431827,
          171.86324980395,
          6.3768226583438,
          0.69876004244997,
          376.77873927486,
          63.320864087838,
          35.982991416327,
          0.66712932326056,
          90.713808046919,
          8.0267801517168,
          4.9498697046516,
          104.14327454512,
          37.795162893938,
          36.468908037566,
          3.6303625606453,
          22.554401127018,
          57.089465324127,
          0.55834986981276,
          0.73640550801535,
          20.252684962445,
          441.36902361588,
          1.5913642035801,
          7.2012152367498,
          1.7756692184276,
          6.705221979407,
          0.25833780323279,
          548.45485142572,
          34.226904658101,
          83.49511343181,
          11948.119604637,
          13.643330459073,
          9.806340523059,
          3.2230698942952,
          7.4554450818705,
          0.10513544206887,
          73.035492382356,
          0.26050890752437,
          0.847488747985,
          7.2526456043229,
          21.824078549902,
          0.77290491691607,
          6.4322381895036,
          92.377673112105,
          629.09943820512,
          0.57385470398227,
          0.17496891806339,
          25.962599243995,
          25.041344738823,
          168.9499461034,
          34.032644726349,
          243.28933779545,
          0.78730456111829,
          0.19742442993561,
          212.46727494479,
          13.861403452953,
          18.174781990334,
          38.24786851755,
          1.6708042048543,
          0.050016638821844,
          279.26008845253,
          0.0019669305409165,
          5.5118276447039,
          318.92274971842,
          11.243105188724,
          21.582961669041,
          0.65184910877628,
          3.2215723699572,
          1.6314286334111,
          0.51693004356573,
          0.29769124068317,
          6.6607144086194,
          52.220281376701,
          0.30895625951038,
          0.45458465642615,
          17.426818465127,
          0.77715290273072,
          2.686565012522,
          32.811176574808,
          8.7123761528284,
          17.187753988759,
          2.9372260855669,
          49.39831937562,
          591.31890145117,
          2396.3365168156,
          32.921526517873,
          690.86402214906,
          165.76894875759,
          2.7104713436724,
          59.906141879003,
          295.4190738392,
          7.2308245716445,
          23.510160759925,
          1054.9041462829,
          212.88782312567,
          21.108959269855,
          9.7326353632638,
          16.48174710499,
          0.072494679910562,
          0.25726518134084,
          605.44917201582,
          91.122098555376,
          20.211693781349,
          24.972173108261,
          1.3450910882107,
          48.892535664096,
          0.64059636271544,
          24.536598395088,
          0.63269807903569,
          13.557129734815,
          8.1579132572081,
          6.9387892636056,
          2.5994907799189,
          67.426118020969,
          8.9360525163203,
          4.955637712442,
          2.1277045456343,
          401.12570695017,
          7.1597619839611,
          5.5209698853048,
          1.623964846067,
          39.702453304734,
          24.534009333379,
          8.0317788441688,
          3.9622890303519,
          1.7155162733595,
          3.8579307231918,
          1.7083852719639,
          256.19148870119,
          3.9482421447153,
          5.5575570803969,
          2.2612329304584,
          120.33790242985,
          4.4700508770646,
          143.11026025612,
          41.670154193316,
          13.926567582475,
          33.295879764652,
          85.63465895745,
          202.04717444364,
          11.146464621051,
          46.587114650037,
          138.69579043043,
          1.2762271605056,
          6.387040320428,
          295.9313406108,
          1.2052609961293,
          61.084017016174,
          39.578686090616,
          8.2659381983906,
          0.93875083719473,
          94.728436399887,
          2.4153855782279,
          73.081128471845,
          1797.5952724264,
          1.1669296933026,
          574.91595203697,
          57.718866330993,
          20.134419868571,
          667.03734744548,
          11.144695209578,
          55.797520042957,
          0.015572637935289,
          0.3174580258151,
          0.94389709063463,
          7.3655062880581,
          0.7171936669735,
          0.091564481149666,
          0.14289892238458,
          2.4992949333903,
          33.112816532296,
          14.373390998802,
          38.968335995784,
          1.4473193803246,
          1.0076653980966,
          24.850879636901,
          0.22321510878775,
          2.0399599390105,
          2.121302812159,
          265.84956872467,
          9.2100679321913,
          72.335231047703,
          0.5608762840306,
          0.16297351816571,
          29.057054069315,
          27.594774985845,
          416.5135450314,
          268.88390248785,
          12.506569041339,
          6.4663423135468,
          189.71770806781,
          6.2883484289347,
          4464.1058116912,
          122.15394341609,
          0.20929274833201,
          100.1568359109,
          0.16388196729566,
          322.01765202823,
          0.21514145959932,
          0.34739751753586,
          11.607958936756,
          427.81594747893,
          6.6183586996763,
          11.443394499692
         ],
         "type": "scattergeo"
        }
       ],
       "layout": {
        "geo": {
         "projection": {
          "type": "orthographic"
         }
        },
        "height": 600,
        "margin": {
         "b": 0,
         "l": 0,
         "r": 0,
         "t": 0
        },
        "template": {
         "data": {
          "bar": [
           {
            "error_x": {
             "color": "#2a3f5f"
            },
            "error_y": {
             "color": "#2a3f5f"
            },
            "marker": {
             "line": {
              "color": "#E5ECF6",
              "width": 0.5
             },
             "pattern": {
              "fillmode": "overlay",
              "size": 10,
              "solidity": 0.2
             }
            },
            "type": "bar"
           }
          ],
          "barpolar": [
           {
            "marker": {
             "line": {
              "color": "#E5ECF6",
              "width": 0.5
             },
             "pattern": {
              "fillmode": "overlay",
              "size": 10,
              "solidity": 0.2
             }
            },
            "type": "barpolar"
           }
          ],
          "carpet": [
           {
            "aaxis": {
             "endlinecolor": "#2a3f5f",
             "gridcolor": "white",
             "linecolor": "white",
             "minorgridcolor": "white",
             "startlinecolor": "#2a3f5f"
            },
            "baxis": {
             "endlinecolor": "#2a3f5f",
             "gridcolor": "white",
             "linecolor": "white",
             "minorgridcolor": "white",
             "startlinecolor": "#2a3f5f"
            },
            "type": "carpet"
           }
          ],
          "choropleth": [
           {
            "colorbar": {
             "outlinewidth": 0,
             "ticks": ""
            },
            "type": "choropleth"
           }
          ],
          "contour": [
           {
            "colorbar": {
             "outlinewidth": 0,
             "ticks": ""
            },
            "colorscale": [
             [
              0,
              "#0d0887"
             ],
             [
              0.1111111111111111,
              "#46039f"
             ],
             [
              0.2222222222222222,
              "#7201a8"
             ],
             [
              0.3333333333333333,
              "#9c179e"
             ],
             [
              0.4444444444444444,
              "#bd3786"
             ],
             [
              0.5555555555555556,
              "#d8576b"
             ],
             [
              0.6666666666666666,
              "#ed7953"
             ],
             [
              0.7777777777777778,
              "#fb9f3a"
             ],
             [
              0.8888888888888888,
              "#fdca26"
             ],
             [
              1,
              "#f0f921"
             ]
            ],
            "type": "contour"
           }
          ],
          "contourcarpet": [
           {
            "colorbar": {
             "outlinewidth": 0,
             "ticks": ""
            },
            "type": "contourcarpet"
           }
          ],
          "heatmap": [
           {
            "colorbar": {
             "outlinewidth": 0,
             "ticks": ""
            },
            "colorscale": [
             [
              0,
              "#0d0887"
             ],
             [
              0.1111111111111111,
              "#46039f"
             ],
             [
              0.2222222222222222,
              "#7201a8"
             ],
             [
              0.3333333333333333,
              "#9c179e"
             ],
             [
              0.4444444444444444,
              "#bd3786"
             ],
             [
              0.5555555555555556,
              "#d8576b"
             ],
             [
              0.6666666666666666,
              "#ed7953"
             ],
             [
              0.7777777777777778,
              "#fb9f3a"
             ],
             [
              0.8888888888888888,
              "#fdca26"
             ],
             [
              1,
              "#f0f921"
             ]
            ],
            "type": "heatmap"
           }
          ],
          "heatmapgl": [
           {
            "colorbar": {
             "outlinewidth": 0,
             "ticks": ""
            },
            "colorscale": [
             [
              0,
              "#0d0887"
             ],
             [
              0.1111111111111111,
              "#46039f"
             ],
             [
              0.2222222222222222,
              "#7201a8"
             ],
             [
              0.3333333333333333,
              "#9c179e"
             ],
             [
              0.4444444444444444,
              "#bd3786"
             ],
             [
              0.5555555555555556,
              "#d8576b"
             ],
             [
              0.6666666666666666,
              "#ed7953"
             ],
             [
              0.7777777777777778,
              "#fb9f3a"
             ],
             [
              0.8888888888888888,
              "#fdca26"
             ],
             [
              1,
              "#f0f921"
             ]
            ],
            "type": "heatmapgl"
           }
          ],
          "histogram": [
           {
            "marker": {
             "pattern": {
              "fillmode": "overlay",
              "size": 10,
              "solidity": 0.2
             }
            },
            "type": "histogram"
           }
          ],
          "histogram2d": [
           {
            "colorbar": {
             "outlinewidth": 0,
             "ticks": ""
            },
            "colorscale": [
             [
              0,
              "#0d0887"
             ],
             [
              0.1111111111111111,
              "#46039f"
             ],
             [
              0.2222222222222222,
              "#7201a8"
             ],
             [
              0.3333333333333333,
              "#9c179e"
             ],
             [
              0.4444444444444444,
              "#bd3786"
             ],
             [
              0.5555555555555556,
              "#d8576b"
             ],
             [
              0.6666666666666666,
              "#ed7953"
             ],
             [
              0.7777777777777778,
              "#fb9f3a"
             ],
             [
              0.8888888888888888,
              "#fdca26"
             ],
             [
              1,
              "#f0f921"
             ]
            ],
            "type": "histogram2d"
           }
          ],
          "histogram2dcontour": [
           {
            "colorbar": {
             "outlinewidth": 0,
             "ticks": ""
            },
            "colorscale": [
             [
              0,
              "#0d0887"
             ],
             [
              0.1111111111111111,
              "#46039f"
             ],
             [
              0.2222222222222222,
              "#7201a8"
             ],
             [
              0.3333333333333333,
              "#9c179e"
             ],
             [
              0.4444444444444444,
              "#bd3786"
             ],
             [
              0.5555555555555556,
              "#d8576b"
             ],
             [
              0.6666666666666666,
              "#ed7953"
             ],
             [
              0.7777777777777778,
              "#fb9f3a"
             ],
             [
              0.8888888888888888,
              "#fdca26"
             ],
             [
              1,
              "#f0f921"
             ]
            ],
            "type": "histogram2dcontour"
           }
          ],
          "mesh3d": [
           {
            "colorbar": {
             "outlinewidth": 0,
             "ticks": ""
            },
            "type": "mesh3d"
           }
          ],
          "parcoords": [
           {
            "line": {
             "colorbar": {
              "outlinewidth": 0,
              "ticks": ""
             }
            },
            "type": "parcoords"
           }
          ],
          "pie": [
           {
            "automargin": true,
            "type": "pie"
           }
          ],
          "scatter": [
           {
            "fillpattern": {
             "fillmode": "overlay",
             "size": 10,
             "solidity": 0.2
            },
            "type": "scatter"
           }
          ],
          "scatter3d": [
           {
            "line": {
             "colorbar": {
              "outlinewidth": 0,
              "ticks": ""
             }
            },
            "marker": {
             "colorbar": {
              "outlinewidth": 0,
              "ticks": ""
             }
            },
            "type": "scatter3d"
           }
          ],
          "scattercarpet": [
           {
            "marker": {
             "colorbar": {
              "outlinewidth": 0,
              "ticks": ""
             }
            },
            "type": "scattercarpet"
           }
          ],
          "scattergeo": [
           {
            "marker": {
             "colorbar": {
              "outlinewidth": 0,
              "ticks": ""
             }
            },
            "type": "scattergeo"
           }
          ],
          "scattergl": [
           {
            "marker": {
             "colorbar": {
              "outlinewidth": 0,
              "ticks": ""
             }
            },
            "type": "scattergl"
           }
          ],
          "scattermapbox": [
           {
            "marker": {
             "colorbar": {
              "outlinewidth": 0,
              "ticks": ""
             }
            },
            "type": "scattermapbox"
           }
          ],
          "scatterpolar": [
           {
            "marker": {
             "colorbar": {
              "outlinewidth": 0,
              "ticks": ""
             }
            },
            "type": "scatterpolar"
           }
          ],
          "scatterpolargl": [
           {
            "marker": {
             "colorbar": {
              "outlinewidth": 0,
              "ticks": ""
             }
            },
            "type": "scatterpolargl"
           }
          ],
          "scatterternary": [
           {
            "marker": {
             "colorbar": {
              "outlinewidth": 0,
              "ticks": ""
             }
            },
            "type": "scatterternary"
           }
          ],
          "surface": [
           {
            "colorbar": {
             "outlinewidth": 0,
             "ticks": ""
            },
            "colorscale": [
             [
              0,
              "#0d0887"
             ],
             [
              0.1111111111111111,
              "#46039f"
             ],
             [
              0.2222222222222222,
              "#7201a8"
             ],
             [
              0.3333333333333333,
              "#9c179e"
             ],
             [
              0.4444444444444444,
              "#bd3786"
             ],
             [
              0.5555555555555556,
              "#d8576b"
             ],
             [
              0.6666666666666666,
              "#ed7953"
             ],
             [
              0.7777777777777778,
              "#fb9f3a"
             ],
             [
              0.8888888888888888,
              "#fdca26"
             ],
             [
              1,
              "#f0f921"
             ]
            ],
            "type": "surface"
           }
          ],
          "table": [
           {
            "cells": {
             "fill": {
              "color": "#EBF0F8"
             },
             "line": {
              "color": "white"
             }
            },
            "header": {
             "fill": {
              "color": "#C8D4E3"
             },
             "line": {
              "color": "white"
             }
            },
            "type": "table"
           }
          ]
         },
         "layout": {
          "annotationdefaults": {
           "arrowcolor": "#2a3f5f",
           "arrowhead": 0,
           "arrowwidth": 1
          },
          "autotypenumbers": "strict",
          "coloraxis": {
           "colorbar": {
            "outlinewidth": 0,
            "ticks": ""
           }
          },
          "colorscale": {
           "diverging": [
            [
             0,
             "#8e0152"
            ],
            [
             0.1,
             "#c51b7d"
            ],
            [
             0.2,
             "#de77ae"
            ],
            [
             0.3,
             "#f1b6da"
            ],
            [
             0.4,
             "#fde0ef"
            ],
            [
             0.5,
             "#f7f7f7"
            ],
            [
             0.6,
             "#e6f5d0"
            ],
            [
             0.7,
             "#b8e186"
            ],
            [
             0.8,
             "#7fbc41"
            ],
            [
             0.9,
             "#4d9221"
            ],
            [
             1,
             "#276419"
            ]
           ],
           "sequential": [
            [
             0,
             "#0d0887"
            ],
            [
             0.1111111111111111,
             "#46039f"
            ],
            [
             0.2222222222222222,
             "#7201a8"
            ],
            [
             0.3333333333333333,
             "#9c179e"
            ],
            [
             0.4444444444444444,
             "#bd3786"
            ],
            [
             0.5555555555555556,
             "#d8576b"
            ],
            [
             0.6666666666666666,
             "#ed7953"
            ],
            [
             0.7777777777777778,
             "#fb9f3a"
            ],
            [
             0.8888888888888888,
             "#fdca26"
            ],
            [
             1,
             "#f0f921"
            ]
           ],
           "sequentialminus": [
            [
             0,
             "#0d0887"
            ],
            [
             0.1111111111111111,
             "#46039f"
            ],
            [
             0.2222222222222222,
             "#7201a8"
            ],
            [
             0.3333333333333333,
             "#9c179e"
            ],
            [
             0.4444444444444444,
             "#bd3786"
            ],
            [
             0.5555555555555556,
             "#d8576b"
            ],
            [
             0.6666666666666666,
             "#ed7953"
            ],
            [
             0.7777777777777778,
             "#fb9f3a"
            ],
            [
             0.8888888888888888,
             "#fdca26"
            ],
            [
             1,
             "#f0f921"
            ]
           ]
          },
          "colorway": [
           "#636efa",
           "#EF553B",
           "#00cc96",
           "#ab63fa",
           "#FFA15A",
           "#19d3f3",
           "#FF6692",
           "#B6E880",
           "#FF97FF",
           "#FECB52"
          ],
          "font": {
           "color": "#2a3f5f"
          },
          "geo": {
           "bgcolor": "white",
           "lakecolor": "white",
           "landcolor": "#E5ECF6",
           "showlakes": true,
           "showland": true,
           "subunitcolor": "white"
          },
          "hoverlabel": {
           "align": "left"
          },
          "hovermode": "closest",
          "mapbox": {
           "style": "light"
          },
          "paper_bgcolor": "white",
          "plot_bgcolor": "#E5ECF6",
          "polar": {
           "angularaxis": {
            "gridcolor": "white",
            "linecolor": "white",
            "ticks": ""
           },
           "bgcolor": "#E5ECF6",
           "radialaxis": {
            "gridcolor": "white",
            "linecolor": "white",
            "ticks": ""
           }
          },
          "scene": {
           "xaxis": {
            "backgroundcolor": "#E5ECF6",
            "gridcolor": "white",
            "gridwidth": 2,
            "linecolor": "white",
            "showbackground": true,
            "ticks": "",
            "zerolinecolor": "white"
           },
           "yaxis": {
            "backgroundcolor": "#E5ECF6",
            "gridcolor": "white",
            "gridwidth": 2,
            "linecolor": "white",
            "showbackground": true,
            "ticks": "",
            "zerolinecolor": "white"
           },
           "zaxis": {
            "backgroundcolor": "#E5ECF6",
            "gridcolor": "white",
            "gridwidth": 2,
            "linecolor": "white",
            "showbackground": true,
            "ticks": "",
            "zerolinecolor": "white"
           }
          },
          "shapedefaults": {
           "line": {
            "color": "#2a3f5f"
           }
          },
          "ternary": {
           "aaxis": {
            "gridcolor": "white",
            "linecolor": "white",
            "ticks": ""
           },
           "baxis": {
            "gridcolor": "white",
            "linecolor": "white",
            "ticks": ""
           },
           "bgcolor": "#E5ECF6",
           "caxis": {
            "gridcolor": "white",
            "linecolor": "white",
            "ticks": ""
           }
          },
          "title": {
           "x": 0.05
          },
          "xaxis": {
           "automargin": true,
           "gridcolor": "white",
           "linecolor": "white",
           "ticks": "",
           "title": {
            "standoff": 15
           },
           "zerolinecolor": "white",
           "zerolinewidth": 2
          },
          "yaxis": {
           "automargin": true,
           "gridcolor": "white",
           "linecolor": "white",
           "ticks": "",
           "title": {
            "standoff": 15
           },
           "zerolinecolor": "white",
           "zerolinewidth": 2
          }
         }
        },
        "title": {
         "text": "CO2 Emissions by Country in 2020"
        }
       }
      }
     },
     "metadata": {},
     "output_type": "display_data"
    }
   ],
   "source": [
    "## PUNTOS POR CADA PAIS \n",
    "\n",
    "fig = go.Figure(go.Scattergeo(\n",
    "    locationmode='country names',\n",
    "    locations=df_year['Country'],\n",
    "    text=df_year['CO2 Emissions'],\n",
    "    marker=dict(\n",
    "        size=10,\n",
    "        color=df_year['CO2 Emissions'],\n",
    "        colorscale='Viridis',\n",
    "        colorbar=dict(title=\"CO2 Emissions\")\n",
    "    )\n",
    "))\n",
    "\n",
    "fig.update_geos(projection_type=\"orthographic\")\n",
    "fig.update_layout(\n",
    "    title=f'CO2 Emissions by Country in {2020}',\n",
    "    height=600,\n",
    "    margin={\"r\":0,\"t\":0,\"l\":0,\"b\":0}\n",
    ")\n",
    "\n",
    "fig.show()"
   ]
  },
  {
   "cell_type": "code",
   "execution_count": 14,
   "metadata": {},
   "outputs": [
    {
     "data": {
      "application/vnd.plotly.v1+json": {
       "config": {
        "plotlyServerURL": "https://plot.ly"
       },
       "data": [
        {
         "colorbar": {
          "title": {
           "text": "CO2 Emissions"
          }
         },
         "colorscale": [
          [
           0,
           "#440154"
          ],
          [
           0.1111111111111111,
           "#482878"
          ],
          [
           0.2222222222222222,
           "#3e4989"
          ],
          [
           0.3333333333333333,
           "#31688e"
          ],
          [
           0.4444444444444444,
           "#26828e"
          ],
          [
           0.5555555555555556,
           "#1f9e89"
          ],
          [
           0.6666666666666666,
           "#35b779"
          ],
          [
           0.7777777777777778,
           "#6ece58"
          ],
          [
           0.8888888888888888,
           "#b5de2b"
          ],
          [
           1,
           "#fde725"
          ]
         ],
         "locationmode": "country names",
         "locations": [
          "Aruba",
          "Afghanistan",
          "Angola",
          "Anguilla",
          "Albania",
          "Curacao",
          "United Arab Emirates",
          "Argentina",
          "Armenia",
          "Antigua and Barbuda",
          "Australia",
          "Austria",
          "Azerbaijan",
          "Burundi",
          "Belgium",
          "Benin",
          "Burkina Faso",
          "Bangladesh",
          "Bulgaria",
          "Bahrain",
          "Bahamas",
          "Bosnia and Herzegovina",
          "Belarus",
          "Belize",
          "Bermuda",
          "Bolivia",
          "Brazil",
          "Barbados",
          "Brunei",
          "Bhutan",
          "Botswana",
          "Central African Republic",
          "Canada",
          "Switzerland and Liechtenstein",
          "Chile",
          "China",
          "Côte d’Ivoire",
          "Cameroon",
          "Democratic Republic of the Congo",
          "Congo",
          "Cook Islands",
          "Colombia",
          "Comoros",
          "Cabo Verde",
          "Costa Rica",
          "Cuba",
          "Cayman Islands",
          "Cyprus",
          "Czechia",
          "Germany",
          "Djibouti",
          "Dominica",
          "Denmark",
          "Dominican Republic",
          "Algeria",
          "Ecuador",
          "Egypt",
          "Eritrea",
          "Western Sahara",
          "Spain and Andorra",
          "Estonia",
          "Ethiopia",
          "Finland",
          "Fiji",
          "Falkland Islands",
          "France and Monaco",
          "Faroes",
          "Gabon",
          "United Kingdom",
          "Georgia",
          "Ghana",
          "Gibraltar",
          "Guinea",
          "Guadeloupe",
          "The Gambia",
          "Guinea-Bissau",
          "Equatorial Guinea",
          "Greece",
          "Grenada",
          "Greenland",
          "Guatemala",
          "French Guiana",
          "Guyana",
          "Hong Kong",
          "Honduras",
          "Croatia",
          "Haiti",
          "Hungary",
          "Indonesia",
          "India",
          "Ireland",
          "Iran",
          "Iraq",
          "Iceland",
          "Israel and Palestine, State of",
          "Italy, San Marino and the Holy See",
          "Jamaica",
          "Jordan",
          "Japan",
          "Kazakhstan",
          "Kenya",
          "Kyrgyzstan",
          "Cambodia",
          "Kiribati",
          "Saint Kitts and Nevis",
          "South Korea",
          "Kuwait",
          "Laos",
          "Lebanon",
          "Liberia",
          "Libya",
          "Saint Lucia",
          "Sri Lanka",
          "Lesotho",
          "Lithuania",
          "Luxembourg",
          "Latvia",
          "Macao",
          "Morocco",
          "Moldova",
          "Madagascar",
          "Maldives",
          "Mexico",
          "North Macedonia",
          "Mali",
          "Malta",
          "Myanmar/Burma",
          "Mongolia",
          "Mozambique",
          "Mauritania",
          "Martinique",
          "Mauritius",
          "Malawi",
          "Malaysia",
          "Namibia",
          "New Caledonia",
          "Niger",
          "Nigeria",
          "Nicaragua",
          "Netherlands",
          "Norway",
          "Nepal",
          "New Zealand",
          "Oman",
          "Pakistan",
          "Panama",
          "Peru",
          "Philippines",
          "Palau",
          "Papua New Guinea",
          "Poland",
          "Puerto Rico",
          "North Korea",
          "Portugal",
          "Paraguay",
          "French Polynesia",
          "Qatar",
          "Réunion",
          "Romania",
          "Russia",
          "Rwanda",
          "Saudi Arabia",
          "Serbia and Montenegro",
          "Sudan and South Sudan",
          "International Shipping",
          "Senegal",
          "Singapore",
          "Saint Helena, Ascension and Tristan da Cunha",
          "Solomon Islands",
          "Sierra Leone",
          "El Salvador",
          "Somalia",
          "Saint Pierre and Miquelon",
          "São Tomé and Príncipe",
          "Suriname",
          "Slovakia",
          "Slovenia",
          "Sweden",
          "Eswatini",
          "Seychelles",
          "Syria",
          "Turks and Caicos Islands",
          "Chad",
          "Togo",
          "Thailand",
          "Tajikistan",
          "Turkmenistan",
          "Timor-Leste",
          "Tonga",
          "Trinidad and Tobago",
          "Tunisia",
          "Turkey",
          "Taiwan",
          "Tanzania",
          "Uganda",
          "Ukraine",
          "Uruguay",
          "United States",
          "Uzbekistan",
          "Saint Vincent and the Grenadines",
          "Venezuela",
          "British Virgin Islands",
          "Vietnam",
          "Vanuatu",
          "Samoa",
          "Yemen",
          "South Africa",
          "Zambia",
          "Zimbabwe"
         ],
         "text": [
          1.1443334637731,
          8.1837178734951,
          23.055843825837,
          0.022779487610771,
          4.7069204164287,
          1.8310850970796,
          189.33802431827,
          171.86324980395,
          6.3768226583438,
          0.69876004244997,
          376.77873927486,
          63.320864087838,
          35.982991416327,
          0.66712932326056,
          90.713808046919,
          8.0267801517168,
          4.9498697046516,
          104.14327454512,
          37.795162893938,
          36.468908037566,
          3.6303625606453,
          22.554401127018,
          57.089465324127,
          0.55834986981276,
          0.73640550801535,
          20.252684962445,
          441.36902361588,
          1.5913642035801,
          7.2012152367498,
          1.7756692184276,
          6.705221979407,
          0.25833780323279,
          548.45485142572,
          34.226904658101,
          83.49511343181,
          11948.119604637,
          13.643330459073,
          9.806340523059,
          3.2230698942952,
          7.4554450818705,
          0.10513544206887,
          73.035492382356,
          0.26050890752437,
          0.847488747985,
          7.2526456043229,
          21.824078549902,
          0.77290491691607,
          6.4322381895036,
          92.377673112105,
          629.09943820512,
          0.57385470398227,
          0.17496891806339,
          25.962599243995,
          25.041344738823,
          168.9499461034,
          34.032644726349,
          243.28933779545,
          0.78730456111829,
          0.19742442993561,
          212.46727494479,
          13.861403452953,
          18.174781990334,
          38.24786851755,
          1.6708042048543,
          0.050016638821844,
          279.26008845253,
          0.0019669305409165,
          5.5118276447039,
          318.92274971842,
          11.243105188724,
          21.582961669041,
          0.65184910877628,
          3.2215723699572,
          1.6314286334111,
          0.51693004356573,
          0.29769124068317,
          6.6607144086194,
          52.220281376701,
          0.30895625951038,
          0.45458465642615,
          17.426818465127,
          0.77715290273072,
          2.686565012522,
          32.811176574808,
          8.7123761528284,
          17.187753988759,
          2.9372260855669,
          49.39831937562,
          591.31890145117,
          2396.3365168156,
          32.921526517873,
          690.86402214906,
          165.76894875759,
          2.7104713436724,
          59.906141879003,
          295.4190738392,
          7.2308245716445,
          23.510160759925,
          1054.9041462829,
          212.88782312567,
          21.108959269855,
          9.7326353632638,
          16.48174710499,
          0.072494679910562,
          0.25726518134084,
          605.44917201582,
          91.122098555376,
          20.211693781349,
          24.972173108261,
          1.3450910882107,
          48.892535664096,
          0.64059636271544,
          24.536598395088,
          0.63269807903569,
          13.557129734815,
          8.1579132572081,
          6.9387892636056,
          2.5994907799189,
          67.426118020969,
          8.9360525163203,
          4.955637712442,
          2.1277045456343,
          401.12570695017,
          7.1597619839611,
          5.5209698853048,
          1.623964846067,
          39.702453304734,
          24.534009333379,
          8.0317788441688,
          3.9622890303519,
          1.7155162733595,
          3.8579307231918,
          1.7083852719639,
          256.19148870119,
          3.9482421447153,
          5.5575570803969,
          2.2612329304584,
          120.33790242985,
          4.4700508770646,
          143.11026025612,
          41.670154193316,
          13.926567582475,
          33.295879764652,
          85.63465895745,
          202.04717444364,
          11.146464621051,
          46.587114650037,
          138.69579043043,
          1.2762271605056,
          6.387040320428,
          295.9313406108,
          1.2052609961293,
          61.084017016174,
          39.578686090616,
          8.2659381983906,
          0.93875083719473,
          94.728436399887,
          2.4153855782279,
          73.081128471845,
          1797.5952724264,
          1.1669296933026,
          574.91595203697,
          57.718866330993,
          20.134419868571,
          667.03734744548,
          11.144695209578,
          55.797520042957,
          0.015572637935289,
          0.3174580258151,
          0.94389709063463,
          7.3655062880581,
          0.7171936669735,
          0.091564481149666,
          0.14289892238458,
          2.4992949333903,
          33.112816532296,
          14.373390998802,
          38.968335995784,
          1.4473193803246,
          1.0076653980966,
          24.850879636901,
          0.22321510878775,
          2.0399599390105,
          2.121302812159,
          265.84956872467,
          9.2100679321913,
          72.335231047703,
          0.5608762840306,
          0.16297351816571,
          29.057054069315,
          27.594774985845,
          416.5135450314,
          268.88390248785,
          12.506569041339,
          6.4663423135468,
          189.71770806781,
          6.2883484289347,
          4464.1058116912,
          122.15394341609,
          0.20929274833201,
          100.1568359109,
          0.16388196729566,
          322.01765202823,
          0.21514145959932,
          0.34739751753586,
          11.607958936756,
          427.81594747893,
          6.6183586996763,
          11.443394499692
         ],
         "type": "choropleth",
         "z": [
          1.1443334637731,
          8.1837178734951,
          23.055843825837,
          0.022779487610771,
          4.7069204164287,
          1.8310850970796,
          189.33802431827,
          171.86324980395,
          6.3768226583438,
          0.69876004244997,
          376.77873927486,
          63.320864087838,
          35.982991416327,
          0.66712932326056,
          90.713808046919,
          8.0267801517168,
          4.9498697046516,
          104.14327454512,
          37.795162893938,
          36.468908037566,
          3.6303625606453,
          22.554401127018,
          57.089465324127,
          0.55834986981276,
          0.73640550801535,
          20.252684962445,
          441.36902361588,
          1.5913642035801,
          7.2012152367498,
          1.7756692184276,
          6.705221979407,
          0.25833780323279,
          548.45485142572,
          34.226904658101,
          83.49511343181,
          11948.119604637,
          13.643330459073,
          9.806340523059,
          3.2230698942952,
          7.4554450818705,
          0.10513544206887,
          73.035492382356,
          0.26050890752437,
          0.847488747985,
          7.2526456043229,
          21.824078549902,
          0.77290491691607,
          6.4322381895036,
          92.377673112105,
          629.09943820512,
          0.57385470398227,
          0.17496891806339,
          25.962599243995,
          25.041344738823,
          168.9499461034,
          34.032644726349,
          243.28933779545,
          0.78730456111829,
          0.19742442993561,
          212.46727494479,
          13.861403452953,
          18.174781990334,
          38.24786851755,
          1.6708042048543,
          0.050016638821844,
          279.26008845253,
          0.0019669305409165,
          5.5118276447039,
          318.92274971842,
          11.243105188724,
          21.582961669041,
          0.65184910877628,
          3.2215723699572,
          1.6314286334111,
          0.51693004356573,
          0.29769124068317,
          6.6607144086194,
          52.220281376701,
          0.30895625951038,
          0.45458465642615,
          17.426818465127,
          0.77715290273072,
          2.686565012522,
          32.811176574808,
          8.7123761528284,
          17.187753988759,
          2.9372260855669,
          49.39831937562,
          591.31890145117,
          2396.3365168156,
          32.921526517873,
          690.86402214906,
          165.76894875759,
          2.7104713436724,
          59.906141879003,
          295.4190738392,
          7.2308245716445,
          23.510160759925,
          1054.9041462829,
          212.88782312567,
          21.108959269855,
          9.7326353632638,
          16.48174710499,
          0.072494679910562,
          0.25726518134084,
          605.44917201582,
          91.122098555376,
          20.211693781349,
          24.972173108261,
          1.3450910882107,
          48.892535664096,
          0.64059636271544,
          24.536598395088,
          0.63269807903569,
          13.557129734815,
          8.1579132572081,
          6.9387892636056,
          2.5994907799189,
          67.426118020969,
          8.9360525163203,
          4.955637712442,
          2.1277045456343,
          401.12570695017,
          7.1597619839611,
          5.5209698853048,
          1.623964846067,
          39.702453304734,
          24.534009333379,
          8.0317788441688,
          3.9622890303519,
          1.7155162733595,
          3.8579307231918,
          1.7083852719639,
          256.19148870119,
          3.9482421447153,
          5.5575570803969,
          2.2612329304584,
          120.33790242985,
          4.4700508770646,
          143.11026025612,
          41.670154193316,
          13.926567582475,
          33.295879764652,
          85.63465895745,
          202.04717444364,
          11.146464621051,
          46.587114650037,
          138.69579043043,
          1.2762271605056,
          6.387040320428,
          295.9313406108,
          1.2052609961293,
          61.084017016174,
          39.578686090616,
          8.2659381983906,
          0.93875083719473,
          94.728436399887,
          2.4153855782279,
          73.081128471845,
          1797.5952724264,
          1.1669296933026,
          574.91595203697,
          57.718866330993,
          20.134419868571,
          667.03734744548,
          11.144695209578,
          55.797520042957,
          0.015572637935289,
          0.3174580258151,
          0.94389709063463,
          7.3655062880581,
          0.7171936669735,
          0.091564481149666,
          0.14289892238458,
          2.4992949333903,
          33.112816532296,
          14.373390998802,
          38.968335995784,
          1.4473193803246,
          1.0076653980966,
          24.850879636901,
          0.22321510878775,
          2.0399599390105,
          2.121302812159,
          265.84956872467,
          9.2100679321913,
          72.335231047703,
          0.5608762840306,
          0.16297351816571,
          29.057054069315,
          27.594774985845,
          416.5135450314,
          268.88390248785,
          12.506569041339,
          6.4663423135468,
          189.71770806781,
          6.2883484289347,
          4464.1058116912,
          122.15394341609,
          0.20929274833201,
          100.1568359109,
          0.16388196729566,
          322.01765202823,
          0.21514145959932,
          0.34739751753586,
          11.607958936756,
          427.81594747893,
          6.6183586996763,
          11.443394499692
         ]
        }
       ],
       "layout": {
        "geo": {
         "projection": {
          "type": "orthographic"
         }
        },
        "height": 600,
        "margin": {
         "b": 0,
         "l": 0,
         "r": 0,
         "t": 0
        },
        "template": {
         "data": {
          "bar": [
           {
            "error_x": {
             "color": "#2a3f5f"
            },
            "error_y": {
             "color": "#2a3f5f"
            },
            "marker": {
             "line": {
              "color": "#E5ECF6",
              "width": 0.5
             },
             "pattern": {
              "fillmode": "overlay",
              "size": 10,
              "solidity": 0.2
             }
            },
            "type": "bar"
           }
          ],
          "barpolar": [
           {
            "marker": {
             "line": {
              "color": "#E5ECF6",
              "width": 0.5
             },
             "pattern": {
              "fillmode": "overlay",
              "size": 10,
              "solidity": 0.2
             }
            },
            "type": "barpolar"
           }
          ],
          "carpet": [
           {
            "aaxis": {
             "endlinecolor": "#2a3f5f",
             "gridcolor": "white",
             "linecolor": "white",
             "minorgridcolor": "white",
             "startlinecolor": "#2a3f5f"
            },
            "baxis": {
             "endlinecolor": "#2a3f5f",
             "gridcolor": "white",
             "linecolor": "white",
             "minorgridcolor": "white",
             "startlinecolor": "#2a3f5f"
            },
            "type": "carpet"
           }
          ],
          "choropleth": [
           {
            "colorbar": {
             "outlinewidth": 0,
             "ticks": ""
            },
            "type": "choropleth"
           }
          ],
          "contour": [
           {
            "colorbar": {
             "outlinewidth": 0,
             "ticks": ""
            },
            "colorscale": [
             [
              0,
              "#0d0887"
             ],
             [
              0.1111111111111111,
              "#46039f"
             ],
             [
              0.2222222222222222,
              "#7201a8"
             ],
             [
              0.3333333333333333,
              "#9c179e"
             ],
             [
              0.4444444444444444,
              "#bd3786"
             ],
             [
              0.5555555555555556,
              "#d8576b"
             ],
             [
              0.6666666666666666,
              "#ed7953"
             ],
             [
              0.7777777777777778,
              "#fb9f3a"
             ],
             [
              0.8888888888888888,
              "#fdca26"
             ],
             [
              1,
              "#f0f921"
             ]
            ],
            "type": "contour"
           }
          ],
          "contourcarpet": [
           {
            "colorbar": {
             "outlinewidth": 0,
             "ticks": ""
            },
            "type": "contourcarpet"
           }
          ],
          "heatmap": [
           {
            "colorbar": {
             "outlinewidth": 0,
             "ticks": ""
            },
            "colorscale": [
             [
              0,
              "#0d0887"
             ],
             [
              0.1111111111111111,
              "#46039f"
             ],
             [
              0.2222222222222222,
              "#7201a8"
             ],
             [
              0.3333333333333333,
              "#9c179e"
             ],
             [
              0.4444444444444444,
              "#bd3786"
             ],
             [
              0.5555555555555556,
              "#d8576b"
             ],
             [
              0.6666666666666666,
              "#ed7953"
             ],
             [
              0.7777777777777778,
              "#fb9f3a"
             ],
             [
              0.8888888888888888,
              "#fdca26"
             ],
             [
              1,
              "#f0f921"
             ]
            ],
            "type": "heatmap"
           }
          ],
          "heatmapgl": [
           {
            "colorbar": {
             "outlinewidth": 0,
             "ticks": ""
            },
            "colorscale": [
             [
              0,
              "#0d0887"
             ],
             [
              0.1111111111111111,
              "#46039f"
             ],
             [
              0.2222222222222222,
              "#7201a8"
             ],
             [
              0.3333333333333333,
              "#9c179e"
             ],
             [
              0.4444444444444444,
              "#bd3786"
             ],
             [
              0.5555555555555556,
              "#d8576b"
             ],
             [
              0.6666666666666666,
              "#ed7953"
             ],
             [
              0.7777777777777778,
              "#fb9f3a"
             ],
             [
              0.8888888888888888,
              "#fdca26"
             ],
             [
              1,
              "#f0f921"
             ]
            ],
            "type": "heatmapgl"
           }
          ],
          "histogram": [
           {
            "marker": {
             "pattern": {
              "fillmode": "overlay",
              "size": 10,
              "solidity": 0.2
             }
            },
            "type": "histogram"
           }
          ],
          "histogram2d": [
           {
            "colorbar": {
             "outlinewidth": 0,
             "ticks": ""
            },
            "colorscale": [
             [
              0,
              "#0d0887"
             ],
             [
              0.1111111111111111,
              "#46039f"
             ],
             [
              0.2222222222222222,
              "#7201a8"
             ],
             [
              0.3333333333333333,
              "#9c179e"
             ],
             [
              0.4444444444444444,
              "#bd3786"
             ],
             [
              0.5555555555555556,
              "#d8576b"
             ],
             [
              0.6666666666666666,
              "#ed7953"
             ],
             [
              0.7777777777777778,
              "#fb9f3a"
             ],
             [
              0.8888888888888888,
              "#fdca26"
             ],
             [
              1,
              "#f0f921"
             ]
            ],
            "type": "histogram2d"
           }
          ],
          "histogram2dcontour": [
           {
            "colorbar": {
             "outlinewidth": 0,
             "ticks": ""
            },
            "colorscale": [
             [
              0,
              "#0d0887"
             ],
             [
              0.1111111111111111,
              "#46039f"
             ],
             [
              0.2222222222222222,
              "#7201a8"
             ],
             [
              0.3333333333333333,
              "#9c179e"
             ],
             [
              0.4444444444444444,
              "#bd3786"
             ],
             [
              0.5555555555555556,
              "#d8576b"
             ],
             [
              0.6666666666666666,
              "#ed7953"
             ],
             [
              0.7777777777777778,
              "#fb9f3a"
             ],
             [
              0.8888888888888888,
              "#fdca26"
             ],
             [
              1,
              "#f0f921"
             ]
            ],
            "type": "histogram2dcontour"
           }
          ],
          "mesh3d": [
           {
            "colorbar": {
             "outlinewidth": 0,
             "ticks": ""
            },
            "type": "mesh3d"
           }
          ],
          "parcoords": [
           {
            "line": {
             "colorbar": {
              "outlinewidth": 0,
              "ticks": ""
             }
            },
            "type": "parcoords"
           }
          ],
          "pie": [
           {
            "automargin": true,
            "type": "pie"
           }
          ],
          "scatter": [
           {
            "fillpattern": {
             "fillmode": "overlay",
             "size": 10,
             "solidity": 0.2
            },
            "type": "scatter"
           }
          ],
          "scatter3d": [
           {
            "line": {
             "colorbar": {
              "outlinewidth": 0,
              "ticks": ""
             }
            },
            "marker": {
             "colorbar": {
              "outlinewidth": 0,
              "ticks": ""
             }
            },
            "type": "scatter3d"
           }
          ],
          "scattercarpet": [
           {
            "marker": {
             "colorbar": {
              "outlinewidth": 0,
              "ticks": ""
             }
            },
            "type": "scattercarpet"
           }
          ],
          "scattergeo": [
           {
            "marker": {
             "colorbar": {
              "outlinewidth": 0,
              "ticks": ""
             }
            },
            "type": "scattergeo"
           }
          ],
          "scattergl": [
           {
            "marker": {
             "colorbar": {
              "outlinewidth": 0,
              "ticks": ""
             }
            },
            "type": "scattergl"
           }
          ],
          "scattermapbox": [
           {
            "marker": {
             "colorbar": {
              "outlinewidth": 0,
              "ticks": ""
             }
            },
            "type": "scattermapbox"
           }
          ],
          "scatterpolar": [
           {
            "marker": {
             "colorbar": {
              "outlinewidth": 0,
              "ticks": ""
             }
            },
            "type": "scatterpolar"
           }
          ],
          "scatterpolargl": [
           {
            "marker": {
             "colorbar": {
              "outlinewidth": 0,
              "ticks": ""
             }
            },
            "type": "scatterpolargl"
           }
          ],
          "scatterternary": [
           {
            "marker": {
             "colorbar": {
              "outlinewidth": 0,
              "ticks": ""
             }
            },
            "type": "scatterternary"
           }
          ],
          "surface": [
           {
            "colorbar": {
             "outlinewidth": 0,
             "ticks": ""
            },
            "colorscale": [
             [
              0,
              "#0d0887"
             ],
             [
              0.1111111111111111,
              "#46039f"
             ],
             [
              0.2222222222222222,
              "#7201a8"
             ],
             [
              0.3333333333333333,
              "#9c179e"
             ],
             [
              0.4444444444444444,
              "#bd3786"
             ],
             [
              0.5555555555555556,
              "#d8576b"
             ],
             [
              0.6666666666666666,
              "#ed7953"
             ],
             [
              0.7777777777777778,
              "#fb9f3a"
             ],
             [
              0.8888888888888888,
              "#fdca26"
             ],
             [
              1,
              "#f0f921"
             ]
            ],
            "type": "surface"
           }
          ],
          "table": [
           {
            "cells": {
             "fill": {
              "color": "#EBF0F8"
             },
             "line": {
              "color": "white"
             }
            },
            "header": {
             "fill": {
              "color": "#C8D4E3"
             },
             "line": {
              "color": "white"
             }
            },
            "type": "table"
           }
          ]
         },
         "layout": {
          "annotationdefaults": {
           "arrowcolor": "#2a3f5f",
           "arrowhead": 0,
           "arrowwidth": 1
          },
          "autotypenumbers": "strict",
          "coloraxis": {
           "colorbar": {
            "outlinewidth": 0,
            "ticks": ""
           }
          },
          "colorscale": {
           "diverging": [
            [
             0,
             "#8e0152"
            ],
            [
             0.1,
             "#c51b7d"
            ],
            [
             0.2,
             "#de77ae"
            ],
            [
             0.3,
             "#f1b6da"
            ],
            [
             0.4,
             "#fde0ef"
            ],
            [
             0.5,
             "#f7f7f7"
            ],
            [
             0.6,
             "#e6f5d0"
            ],
            [
             0.7,
             "#b8e186"
            ],
            [
             0.8,
             "#7fbc41"
            ],
            [
             0.9,
             "#4d9221"
            ],
            [
             1,
             "#276419"
            ]
           ],
           "sequential": [
            [
             0,
             "#0d0887"
            ],
            [
             0.1111111111111111,
             "#46039f"
            ],
            [
             0.2222222222222222,
             "#7201a8"
            ],
            [
             0.3333333333333333,
             "#9c179e"
            ],
            [
             0.4444444444444444,
             "#bd3786"
            ],
            [
             0.5555555555555556,
             "#d8576b"
            ],
            [
             0.6666666666666666,
             "#ed7953"
            ],
            [
             0.7777777777777778,
             "#fb9f3a"
            ],
            [
             0.8888888888888888,
             "#fdca26"
            ],
            [
             1,
             "#f0f921"
            ]
           ],
           "sequentialminus": [
            [
             0,
             "#0d0887"
            ],
            [
             0.1111111111111111,
             "#46039f"
            ],
            [
             0.2222222222222222,
             "#7201a8"
            ],
            [
             0.3333333333333333,
             "#9c179e"
            ],
            [
             0.4444444444444444,
             "#bd3786"
            ],
            [
             0.5555555555555556,
             "#d8576b"
            ],
            [
             0.6666666666666666,
             "#ed7953"
            ],
            [
             0.7777777777777778,
             "#fb9f3a"
            ],
            [
             0.8888888888888888,
             "#fdca26"
            ],
            [
             1,
             "#f0f921"
            ]
           ]
          },
          "colorway": [
           "#636efa",
           "#EF553B",
           "#00cc96",
           "#ab63fa",
           "#FFA15A",
           "#19d3f3",
           "#FF6692",
           "#B6E880",
           "#FF97FF",
           "#FECB52"
          ],
          "font": {
           "color": "#2a3f5f"
          },
          "geo": {
           "bgcolor": "white",
           "lakecolor": "white",
           "landcolor": "#E5ECF6",
           "showlakes": true,
           "showland": true,
           "subunitcolor": "white"
          },
          "hoverlabel": {
           "align": "left"
          },
          "hovermode": "closest",
          "mapbox": {
           "style": "light"
          },
          "paper_bgcolor": "white",
          "plot_bgcolor": "#E5ECF6",
          "polar": {
           "angularaxis": {
            "gridcolor": "white",
            "linecolor": "white",
            "ticks": ""
           },
           "bgcolor": "#E5ECF6",
           "radialaxis": {
            "gridcolor": "white",
            "linecolor": "white",
            "ticks": ""
           }
          },
          "scene": {
           "xaxis": {
            "backgroundcolor": "#E5ECF6",
            "gridcolor": "white",
            "gridwidth": 2,
            "linecolor": "white",
            "showbackground": true,
            "ticks": "",
            "zerolinecolor": "white"
           },
           "yaxis": {
            "backgroundcolor": "#E5ECF6",
            "gridcolor": "white",
            "gridwidth": 2,
            "linecolor": "white",
            "showbackground": true,
            "ticks": "",
            "zerolinecolor": "white"
           },
           "zaxis": {
            "backgroundcolor": "#E5ECF6",
            "gridcolor": "white",
            "gridwidth": 2,
            "linecolor": "white",
            "showbackground": true,
            "ticks": "",
            "zerolinecolor": "white"
           }
          },
          "shapedefaults": {
           "line": {
            "color": "#2a3f5f"
           }
          },
          "ternary": {
           "aaxis": {
            "gridcolor": "white",
            "linecolor": "white",
            "ticks": ""
           },
           "baxis": {
            "gridcolor": "white",
            "linecolor": "white",
            "ticks": ""
           },
           "bgcolor": "#E5ECF6",
           "caxis": {
            "gridcolor": "white",
            "linecolor": "white",
            "ticks": ""
           }
          },
          "title": {
           "x": 0.05
          },
          "xaxis": {
           "automargin": true,
           "gridcolor": "white",
           "linecolor": "white",
           "ticks": "",
           "title": {
            "standoff": 15
           },
           "zerolinecolor": "white",
           "zerolinewidth": 2
          },
          "yaxis": {
           "automargin": true,
           "gridcolor": "white",
           "linecolor": "white",
           "ticks": "",
           "title": {
            "standoff": 15
           },
           "zerolinecolor": "white",
           "zerolinewidth": 2
          }
         }
        },
        "title": {
         "text": "CO2 Emissions by Country in 2020"
        }
       }
      }
     },
     "metadata": {},
     "output_type": "display_data"
    }
   ],
   "source": [
    "fig = go.Figure(data=go.Choropleth(\n",
    "    locations=df_year['Country'],\n",
    "    locationmode='country names',\n",
    "    z=df_year['CO2 Emissions'],\n",
    "    text=df_year['CO2 Emissions'],\n",
    "    colorscale='Viridis',\n",
    "    colorbar=dict(title=\"CO2 Emissions\")\n",
    "))\n",
    "\n",
    "fig.update_geos(projection_type=\"orthographic\")\n",
    "fig.update_layout(\n",
    "    title=f'CO2 Emissions by Country in {2020}',\n",
    "    height=600,\n",
    "    margin={\"r\":0,\"t\":0,\"l\":0,\"b\":0}\n",
    ")\n",
    "\n",
    "fig.show()"
   ]
  },
  {
   "cell_type": "markdown",
   "metadata": {},
   "source": [
    "______________________________________________________________"
   ]
  },
  {
   "cell_type": "code",
   "execution_count": 59,
   "metadata": {},
   "outputs": [],
   "source": [
    "data_hoja3 = pd.read_excel('CO2.xlsx', sheet_name='fossil_CO2_by_sector_and_countr')\n"
   ]
  },
  {
   "cell_type": "code",
   "execution_count": 60,
   "metadata": {},
   "outputs": [],
   "source": [
    "# Transformar los datos para tener 'Year' y 'CO2 Emissions' como columnas\n",
    "data_3 = data_hoja3.melt(\n",
    "    id_vars=['Sector', 'ISOcode', 'Country'],  # columnas fijas\n",
    "    var_name='Year',                 # nueva columna\n",
    "    value_name='CO2 Emissions'       # nueva columna \n",
    ")"
   ]
  },
  {
   "cell_type": "code",
   "execution_count": 61,
   "metadata": {},
   "outputs": [],
   "source": [
    "# Convertir la columna 'Year' a tipo numérico\n",
    "data_3['Year'] = pd.to_numeric(data_3['Year'])\n",
    "\n",
    "# Crear una nueva columna para las décadas\n",
    "data_3['Decade'] = (data_3['Year'] // 10) * 10\n"
   ]
  },
  {
   "cell_type": "code",
   "execution_count": 62,
   "metadata": {},
   "outputs": [],
   "source": [
    "grouped_data = data_3.groupby(['Sector', 'Decade', 'Country'])['CO2 Emissions'].mean().reset_index()\n"
   ]
  },
  {
   "cell_type": "code",
   "execution_count": 63,
   "metadata": {},
   "outputs": [
    {
     "data": {
      "text/html": [
       "\n",
       "        <iframe\n",
       "            width=\"100%\"\n",
       "            height=\"650\"\n",
       "            src=\"http://127.0.0.1:8050/\"\n",
       "            frameborder=\"0\"\n",
       "            allowfullscreen\n",
       "            \n",
       "        ></iframe>\n",
       "        "
      ],
      "text/plain": [
       "<IPython.lib.display.IFrame at 0x286125fdca0>"
      ]
     },
     "metadata": {},
     "output_type": "display_data"
    }
   ],
   "source": [
    "import pandas as pd\n",
    "from dash import Dash, dcc, html, callback, Output, Input\n",
    "import plotly.express as px\n",
    "\n",
    "\n",
    "# # Cargar la hoja de datos\n",
    "# data_hoja3 = pd.read_excel('CO2.xlsx', sheet_name='fossil_CO2_totals_by_country')\n",
    "\n",
    "# # Transformar los datos para tener 'Year' y 'CO2 Emissions' como columnas\n",
    "# data_3 = data_hoja3.melt(\n",
    "#     id_vars=['Sector', 'ISOcode', 'Country'],  # columnas fijas\n",
    "#     var_name='Year',                 # nueva columna\n",
    "#     value_name='CO2 Emissions'       # nueva columna \n",
    "# )\n",
    "\n",
    "# # Convertir la columna 'Year' a tipo numérico\n",
    "# data_3['Year'] = pd.to_numeric(data_3['Year'])\n",
    "\n",
    "# # Crear una nueva columna para las décadas\n",
    "# data_3['Decade'] = (data_3['Year'] // 10) * 10\n",
    "\n",
    "# Agrupar por 'Sector', 'Decade' y 'Country' y calcular la media de 'CO2 Emissions'\n",
    "# grouped_data = data_3.groupby(['Sector', 'Decade', 'Country'])['CO2 Emissions'].mean().reset_index()\n",
    "\n",
    "# Crear la aplicación Dash\n",
    "app = Dash(__name__)\n",
    "\n",
    "# Layout de la aplicación\n",
    "app.layout = html.Div([\n",
    "    dcc.Checklist(\n",
    "        id='checklist-sectors',\n",
    "        options=[{'label': sector, 'value': sector} for sector in grouped_data['Sector'].unique()],\n",
    "        value=[grouped_data['Sector'].unique()[0]],\n",
    "        labelStyle={'display': 'block'}\n",
    "    ),\n",
    "    dcc.Dropdown(\n",
    "        id='dropdown-decade',\n",
    "        options=[{'label': str(decade), 'value': decade} for decade in grouped_data['Decade'].unique()],\n",
    "        value=grouped_data['Decade'].unique()[0],\n",
    "        placeholder=\"Select a decade\"\n",
    "    ),\n",
    "    dcc.Graph(id='bar-chart')\n",
    "])\n",
    "\n",
    "# Callback para actualizar el gráfico de barras\n",
    "@app.callback(\n",
    "    Output('bar-chart', 'figure'),\n",
    "    [Input('checklist-sectors', 'value'),\n",
    "     Input('dropdown-decade', 'value')]\n",
    ")\n",
    "def update_bar_chart(selected_sectors, selected_decade):\n",
    "    filtered_data = grouped_data[(grouped_data['Sector'].isin(selected_sectors)) & (grouped_data['Decade'] == selected_decade)]\n",
    "    \n",
    "    fig = px.bar(filtered_data, x='Country', y='CO2 Emissions', color='Sector', title=f'CO2 Emissions by Country in {selected_decade}s')\n",
    "    \n",
    "    return fig\n",
    "\n",
    "# Ejecutar la aplicación\n",
    "if __name__ == '__main__':\n",
    "    app.run_server(debug=True)"
   ]
  }
 ],
 "metadata": {
  "kernelspec": {
   "display_name": "Python 3",
   "language": "python",
   "name": "python3"
  },
  "language_info": {
   "codemirror_mode": {
    "name": "ipython",
    "version": 3
   },
   "file_extension": ".py",
   "mimetype": "text/x-python",
   "name": "python",
   "nbconvert_exporter": "python",
   "pygments_lexer": "ipython3",
   "version": "3.12.2"
  }
 },
 "nbformat": 4,
 "nbformat_minor": 2
}
